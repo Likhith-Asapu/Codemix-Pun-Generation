{
 "cells": [
  {
   "cell_type": "code",
   "execution_count": 1,
   "metadata": {},
   "outputs": [
    {
     "name": "stderr",
     "output_type": "stream",
     "text": [
      "/home2/likhithasapu/miniconda3/envs/research/lib/python3.11/site-packages/tqdm/auto.py:21: TqdmWarning: IProgress not found. Please update jupyter and ipywidgets. See https://ipywidgets.readthedocs.io/en/stable/user_install.html\n",
      "  from .autonotebook import tqdm as notebook_tqdm\n"
     ]
    }
   ],
   "source": [
    "from transformers import AutoTokenizer, AutoModelForCausalLM, BitsAndBytesConfig, BartForConditionalGeneration, AutoModelForSeq2SeqLM\n",
    "\n",
    "from datasets import load_dataset\n",
    "from huggingface_hub import login"
   ]
  },
  {
   "cell_type": "code",
   "execution_count": null,
   "metadata": {},
   "outputs": [
    {
     "name": "stdout",
     "output_type": "stream",
     "text": [
      "Token has not been saved to git credential helper. Pass `add_to_git_credential=True` if you want to set the git credential as well.\n",
      "Token is valid (permission: write).\n",
      "Your token has been saved to /home2/likhithasapu/.cache/huggingface/token\n",
      "Login successful\n"
     ]
    },
    {
     "name": "stderr",
     "output_type": "stream",
     "text": [
      "Special tokens have been added in the vocabulary, make sure the associated word embeddings are fine-tuned or trained.\n"
     ]
    }
   ],
   "source": [
    "tokenizer = AutoTokenizer.from_pretrained(\"prakod/gcm_codemix_indicbart_cmi_ratings_gt_4_cmi_gt_30_allperidx\")\n",
    "model = AutoModelForSeq2SeqLM.from_pretrained(\"prakod/gcm_codemix_indicbart_cmi_ratings_gt_4_cmi_gt_30_allperidx\").to(\"cuda\")"
   ]
  },
  {
   "cell_type": "code",
   "execution_count": 9,
   "metadata": {},
   "outputs": [
    {
     "name": "stdout",
     "output_type": "stream",
     "text": [
      "What do you call a cow wearing sunglasses?\n"
     ]
    }
   ],
   "source": [
    "text = \"What do you call a cow wearing sunglasses?\"\n",
    "input_text = f\"Translate the English sentence to Hindi-English sentence: <s> {text} </s>\"\n",
    "input_ids = tokenizer(input_text, return_tensors=\"pt\").to(\"cuda\")\n",
    "outputs = model.generate(input_ids = input_ids[\"input_ids\"], attention_mask = input_ids[\"attention_mask\"], max_new_tokens=150, num_beams=5, no_repeat_ngram_size=3, temperature=1, do_sample=True, top_k=50, top_p=0.95)\n",
    "print(tokenizer.decode(outputs[0],skip_special_tokens=True))"
   ]
  },
  {
   "cell_type": "code",
   "execution_count": 13,
   "metadata": {},
   "outputs": [
    {
     "name": "stderr",
     "output_type": "stream",
     "text": [
      "100%|██████████| 20/20 [00:04<00:00,  4.98it/s]\n"
     ]
    }
   ],
   "source": [
    "import json\n",
    "from tqdm import tqdm\n",
    "import re\n",
    "# Read data from JSON file\n",
    "with open('task2/Chatgpt_pun_translated.json', 'r') as file:\n",
    "    data = json.load(file)\n",
    "\n",
    "phrase_pattern = r\"Generated Small Phrase:\\s*(.*)\"\n",
    "pun_word_pattern = r\"Replace Pun Word:\\s*(.*)\"\n",
    "question_pattern = r\"Generated Question:\\s*(.*)\"\n",
    "\n",
    "def extract_question_and_answer(text):\n",
    "    # Extract using regex\n",
    "    generated_phrase = re.search(phrase_pattern, text).group(1)\n",
    "    replace_pun_word = re.search(pun_word_pattern, text).group(1)\n",
    "    generated_question = re.search(question_pattern, text).group(1)\n",
    "    \n",
    "    return generated_question, replace_pun_word\n",
    "    \n",
    "# Translate the \"pun\" field and add a new field \"pun_translated\"\n",
    "for item in tqdm(data,total=len(data)):\n",
    "    text = item['Response']\n",
    "    question, answer = extract_question_and_answer(text)\n",
    "    input_text = f\"Translate the English sentence to Hindi-English sentence: <s> {question} </s>\"\n",
    "    input_ids = tokenizer(input_text, return_tensors=\"pt\").to(\"cuda\")\n",
    "    outputs = model.generate(input_ids=input_ids[\"input_ids\"], attention_mask=input_ids[\"attention_mask\"], max_new_tokens=150, num_beams=5, no_repeat_ngram_size=2, temperature=2.0, do_sample=True)\n",
    "    translated_text = tokenizer.decode(outputs[0], skip_special_tokens=True)\n",
    "    item['Sentence_chosen_translated'] = translated_text + \"\\n\" + answer\n",
    "\n",
    "# Save the updated data to JSON file\n",
    "with open('task2/Chatgpt_pun_translated.json', 'w') as file:\n",
    "    json.dump(data, file, indent=4, ensure_ascii=False)"
   ]
  },
  {
   "cell_type": "code",
   "execution_count": null,
   "metadata": {},
   "outputs": [],
   "source": []
  }
 ],
 "metadata": {
  "kernelspec": {
   "display_name": "research",
   "language": "python",
   "name": "python3"
  },
  "language_info": {
   "codemirror_mode": {
    "name": "ipython",
    "version": 3
   },
   "file_extension": ".py",
   "mimetype": "text/x-python",
   "name": "python",
   "nbconvert_exporter": "python",
   "pygments_lexer": "ipython3",
   "version": "3.11.4"
  }
 },
 "nbformat": 4,
 "nbformat_minor": 2
}
